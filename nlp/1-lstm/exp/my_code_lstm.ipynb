{
 "cells": [
  {
   "cell_type": "code",
   "execution_count": 1,
   "outputs": [],
   "source": [
    "# 导入常用库\n",
    "import numpy as np\n",
    "import random\n",
    "import pandas as pd\n",
    "import matplotlib.pyplot as plt\n",
    "from pandas import to_datetime\n",
    "import math, time\n",
    "import itertools\n",
    "from sklearn.preprocessing import MinMaxScaler\n",
    "import datetime\n",
    "from operator import itemgetter\n",
    "from sklearn.metrics import mean_squared_error\n",
    "from math import sqrt\n",
    "import torch\n",
    "import torch.nn as nn\n",
    "from torch.autograd import Variable"
   ],
   "metadata": {
    "collapsed": false,
    "pycharm": {
     "name": "#%%\n"
    }
   }
  },
  {
   "cell_type": "markdown",
   "source": [
    "读入ETFs数据，把时间作为index，只留下开高低收四个变量用于后续"
   ],
   "metadata": {
    "collapsed": false,
    "pycharm": {
     "name": "#%% md\n"
    }
   }
  },
  {
   "cell_type": "code",
   "execution_count": 2,
   "outputs": [
    {
     "data": {
      "text/plain": "              Open    High     Low   Close   Volume  OpenInt\nDate                                                        \n2008-08-15  44.886  44.886  44.886  44.886      112        0\n2008-08-18  44.564  44.564  43.875  43.875    28497        0\n2008-08-19  43.283  43.283  43.283  43.283      112        0\n2008-08-20  43.918  43.918  43.892  43.892     4468        0\n2008-08-22  44.097  44.097  44.017  44.071     4006        0\n...            ...     ...     ...     ...      ...      ...\n2017-11-06  75.900  76.530  75.890  76.530  1313730        0\n2017-11-07  76.490  76.580  76.090  76.185  1627277        0\n2017-11-08  76.370  76.590  76.290  76.570   681128        0\n2017-11-09  76.040  76.200  75.580  76.110  1261567        0\n2017-11-10  76.110  76.150  75.870  76.080   619687        0\n\n[2325 rows x 6 columns]",
      "text/html": "<div>\n<style scoped>\n    .dataframe tbody tr th:only-of-type {\n        vertical-align: middle;\n    }\n\n    .dataframe tbody tr th {\n        vertical-align: top;\n    }\n\n    .dataframe thead th {\n        text-align: right;\n    }\n</style>\n<table border=\"1\" class=\"dataframe\">\n  <thead>\n    <tr style=\"text-align: right;\">\n      <th></th>\n      <th>Open</th>\n      <th>High</th>\n      <th>Low</th>\n      <th>Close</th>\n      <th>Volume</th>\n      <th>OpenInt</th>\n    </tr>\n    <tr>\n      <th>Date</th>\n      <th></th>\n      <th></th>\n      <th></th>\n      <th></th>\n      <th></th>\n      <th></th>\n    </tr>\n  </thead>\n  <tbody>\n    <tr>\n      <th>2008-08-15</th>\n      <td>44.886</td>\n      <td>44.886</td>\n      <td>44.886</td>\n      <td>44.886</td>\n      <td>112</td>\n      <td>0</td>\n    </tr>\n    <tr>\n      <th>2008-08-18</th>\n      <td>44.564</td>\n      <td>44.564</td>\n      <td>43.875</td>\n      <td>43.875</td>\n      <td>28497</td>\n      <td>0</td>\n    </tr>\n    <tr>\n      <th>2008-08-19</th>\n      <td>43.283</td>\n      <td>43.283</td>\n      <td>43.283</td>\n      <td>43.283</td>\n      <td>112</td>\n      <td>0</td>\n    </tr>\n    <tr>\n      <th>2008-08-20</th>\n      <td>43.918</td>\n      <td>43.918</td>\n      <td>43.892</td>\n      <td>43.892</td>\n      <td>4468</td>\n      <td>0</td>\n    </tr>\n    <tr>\n      <th>2008-08-22</th>\n      <td>44.097</td>\n      <td>44.097</td>\n      <td>44.017</td>\n      <td>44.071</td>\n      <td>4006</td>\n      <td>0</td>\n    </tr>\n    <tr>\n      <th>...</th>\n      <td>...</td>\n      <td>...</td>\n      <td>...</td>\n      <td>...</td>\n      <td>...</td>\n      <td>...</td>\n    </tr>\n    <tr>\n      <th>2017-11-06</th>\n      <td>75.900</td>\n      <td>76.530</td>\n      <td>75.890</td>\n      <td>76.530</td>\n      <td>1313730</td>\n      <td>0</td>\n    </tr>\n    <tr>\n      <th>2017-11-07</th>\n      <td>76.490</td>\n      <td>76.580</td>\n      <td>76.090</td>\n      <td>76.185</td>\n      <td>1627277</td>\n      <td>0</td>\n    </tr>\n    <tr>\n      <th>2017-11-08</th>\n      <td>76.370</td>\n      <td>76.590</td>\n      <td>76.290</td>\n      <td>76.570</td>\n      <td>681128</td>\n      <td>0</td>\n    </tr>\n    <tr>\n      <th>2017-11-09</th>\n      <td>76.040</td>\n      <td>76.200</td>\n      <td>75.580</td>\n      <td>76.110</td>\n      <td>1261567</td>\n      <td>0</td>\n    </tr>\n    <tr>\n      <th>2017-11-10</th>\n      <td>76.110</td>\n      <td>76.150</td>\n      <td>75.870</td>\n      <td>76.080</td>\n      <td>619687</td>\n      <td>0</td>\n    </tr>\n  </tbody>\n</table>\n<p>2325 rows × 6 columns</p>\n</div>"
     },
     "execution_count": 2,
     "metadata": {},
     "output_type": "execute_result"
    }
   ],
   "source": [
    "df_aaxj = pd.read_csv('D:/PycharmProjects/deep_learn/nlp/1-lstm/exp/data_stock/ETFs/aaxj.us.txt',index_col='Date')\n",
    "df_aaxj"
   ],
   "metadata": {
    "collapsed": false,
    "pycharm": {
     "name": "#%%\n"
    }
   }
  },
  {
   "cell_type": "markdown",
   "source": [
    "只留2010-10-11: 2017-10-11的数据，因为此时索引不是01234，所以截取形式如下"
   ],
   "metadata": {
    "collapsed": false,
    "pycharm": {
     "name": "#%% md\n"
    }
   }
  },
  {
   "cell_type": "code",
   "execution_count": 3,
   "outputs": [
    {
     "data": {
      "text/plain": "              Open    High     Low   Close   Volume  OpenInt\nDate                                                        \n2010-10-11  55.971  56.052  55.863  56.052   268544        0\n2010-10-12  55.676  55.792  55.362  55.667   817951        0\n2010-10-13  56.472  56.867  56.401  56.569   999413        0\n2010-10-14  56.733  56.742  56.293  56.579   661897        0\n2010-10-15  56.893  56.893  56.194  56.552   245001        0\n...            ...     ...     ...     ...      ...      ...\n2017-10-05  73.500  74.030  73.500  73.970  2134323        0\n2017-10-06  73.470  73.650  73.220  73.579  2092100        0\n2017-10-09  73.500  73.795  73.480  73.770   879600        0\n2017-10-10  74.150  74.490  74.150  74.480  1878845        0\n2017-10-11  74.290  74.645  74.210  74.610  1168511        0\n\n[1763 rows x 6 columns]",
      "text/html": "<div>\n<style scoped>\n    .dataframe tbody tr th:only-of-type {\n        vertical-align: middle;\n    }\n\n    .dataframe tbody tr th {\n        vertical-align: top;\n    }\n\n    .dataframe thead th {\n        text-align: right;\n    }\n</style>\n<table border=\"1\" class=\"dataframe\">\n  <thead>\n    <tr style=\"text-align: right;\">\n      <th></th>\n      <th>Open</th>\n      <th>High</th>\n      <th>Low</th>\n      <th>Close</th>\n      <th>Volume</th>\n      <th>OpenInt</th>\n    </tr>\n    <tr>\n      <th>Date</th>\n      <th></th>\n      <th></th>\n      <th></th>\n      <th></th>\n      <th></th>\n      <th></th>\n    </tr>\n  </thead>\n  <tbody>\n    <tr>\n      <th>2010-10-11</th>\n      <td>55.971</td>\n      <td>56.052</td>\n      <td>55.863</td>\n      <td>56.052</td>\n      <td>268544</td>\n      <td>0</td>\n    </tr>\n    <tr>\n      <th>2010-10-12</th>\n      <td>55.676</td>\n      <td>55.792</td>\n      <td>55.362</td>\n      <td>55.667</td>\n      <td>817951</td>\n      <td>0</td>\n    </tr>\n    <tr>\n      <th>2010-10-13</th>\n      <td>56.472</td>\n      <td>56.867</td>\n      <td>56.401</td>\n      <td>56.569</td>\n      <td>999413</td>\n      <td>0</td>\n    </tr>\n    <tr>\n      <th>2010-10-14</th>\n      <td>56.733</td>\n      <td>56.742</td>\n      <td>56.293</td>\n      <td>56.579</td>\n      <td>661897</td>\n      <td>0</td>\n    </tr>\n    <tr>\n      <th>2010-10-15</th>\n      <td>56.893</td>\n      <td>56.893</td>\n      <td>56.194</td>\n      <td>56.552</td>\n      <td>245001</td>\n      <td>0</td>\n    </tr>\n    <tr>\n      <th>...</th>\n      <td>...</td>\n      <td>...</td>\n      <td>...</td>\n      <td>...</td>\n      <td>...</td>\n      <td>...</td>\n    </tr>\n    <tr>\n      <th>2017-10-05</th>\n      <td>73.500</td>\n      <td>74.030</td>\n      <td>73.500</td>\n      <td>73.970</td>\n      <td>2134323</td>\n      <td>0</td>\n    </tr>\n    <tr>\n      <th>2017-10-06</th>\n      <td>73.470</td>\n      <td>73.650</td>\n      <td>73.220</td>\n      <td>73.579</td>\n      <td>2092100</td>\n      <td>0</td>\n    </tr>\n    <tr>\n      <th>2017-10-09</th>\n      <td>73.500</td>\n      <td>73.795</td>\n      <td>73.480</td>\n      <td>73.770</td>\n      <td>879600</td>\n      <td>0</td>\n    </tr>\n    <tr>\n      <th>2017-10-10</th>\n      <td>74.150</td>\n      <td>74.490</td>\n      <td>74.150</td>\n      <td>74.480</td>\n      <td>1878845</td>\n      <td>0</td>\n    </tr>\n    <tr>\n      <th>2017-10-11</th>\n      <td>74.290</td>\n      <td>74.645</td>\n      <td>74.210</td>\n      <td>74.610</td>\n      <td>1168511</td>\n      <td>0</td>\n    </tr>\n  </tbody>\n</table>\n<p>1763 rows × 6 columns</p>\n</div>"
     },
     "execution_count": 3,
     "metadata": {},
     "output_type": "execute_result"
    }
   ],
   "source": [
    "df_main = df_aaxj['2010-10-11':'2017-10-11']\n",
    "df_main"
   ],
   "metadata": {
    "collapsed": false,
    "pycharm": {
     "name": "#%%\n"
    }
   }
  },
  {
   "cell_type": "markdown",
   "source": [
    "只留开高低收四个关键字"
   ],
   "metadata": {
    "collapsed": false,
    "pycharm": {
     "name": "#%% md\n"
    }
   }
  },
  {
   "cell_type": "code",
   "execution_count": 4,
   "outputs": [
    {
     "data": {
      "text/plain": "              Open    High     Low   Close\nDate                                      \n2010-10-11  55.971  56.052  55.863  56.052\n2010-10-12  55.676  55.792  55.362  55.667\n2010-10-13  56.472  56.867  56.401  56.569\n2010-10-14  56.733  56.742  56.293  56.579\n2010-10-15  56.893  56.893  56.194  56.552\n...            ...     ...     ...     ...\n2017-10-05  73.500  74.030  73.500  73.970\n2017-10-06  73.470  73.650  73.220  73.579\n2017-10-09  73.500  73.795  73.480  73.770\n2017-10-10  74.150  74.490  74.150  74.480\n2017-10-11  74.290  74.645  74.210  74.610\n\n[1763 rows x 4 columns]",
      "text/html": "<div>\n<style scoped>\n    .dataframe tbody tr th:only-of-type {\n        vertical-align: middle;\n    }\n\n    .dataframe tbody tr th {\n        vertical-align: top;\n    }\n\n    .dataframe thead th {\n        text-align: right;\n    }\n</style>\n<table border=\"1\" class=\"dataframe\">\n  <thead>\n    <tr style=\"text-align: right;\">\n      <th></th>\n      <th>Open</th>\n      <th>High</th>\n      <th>Low</th>\n      <th>Close</th>\n    </tr>\n    <tr>\n      <th>Date</th>\n      <th></th>\n      <th></th>\n      <th></th>\n      <th></th>\n    </tr>\n  </thead>\n  <tbody>\n    <tr>\n      <th>2010-10-11</th>\n      <td>55.971</td>\n      <td>56.052</td>\n      <td>55.863</td>\n      <td>56.052</td>\n    </tr>\n    <tr>\n      <th>2010-10-12</th>\n      <td>55.676</td>\n      <td>55.792</td>\n      <td>55.362</td>\n      <td>55.667</td>\n    </tr>\n    <tr>\n      <th>2010-10-13</th>\n      <td>56.472</td>\n      <td>56.867</td>\n      <td>56.401</td>\n      <td>56.569</td>\n    </tr>\n    <tr>\n      <th>2010-10-14</th>\n      <td>56.733</td>\n      <td>56.742</td>\n      <td>56.293</td>\n      <td>56.579</td>\n    </tr>\n    <tr>\n      <th>2010-10-15</th>\n      <td>56.893</td>\n      <td>56.893</td>\n      <td>56.194</td>\n      <td>56.552</td>\n    </tr>\n    <tr>\n      <th>...</th>\n      <td>...</td>\n      <td>...</td>\n      <td>...</td>\n      <td>...</td>\n    </tr>\n    <tr>\n      <th>2017-10-05</th>\n      <td>73.500</td>\n      <td>74.030</td>\n      <td>73.500</td>\n      <td>73.970</td>\n    </tr>\n    <tr>\n      <th>2017-10-06</th>\n      <td>73.470</td>\n      <td>73.650</td>\n      <td>73.220</td>\n      <td>73.579</td>\n    </tr>\n    <tr>\n      <th>2017-10-09</th>\n      <td>73.500</td>\n      <td>73.795</td>\n      <td>73.480</td>\n      <td>73.770</td>\n    </tr>\n    <tr>\n      <th>2017-10-10</th>\n      <td>74.150</td>\n      <td>74.490</td>\n      <td>74.150</td>\n      <td>74.480</td>\n    </tr>\n    <tr>\n      <th>2017-10-11</th>\n      <td>74.290</td>\n      <td>74.645</td>\n      <td>74.210</td>\n      <td>74.610</td>\n    </tr>\n  </tbody>\n</table>\n<p>1763 rows × 4 columns</p>\n</div>"
     },
     "execution_count": 4,
     "metadata": {},
     "output_type": "execute_result"
    }
   ],
   "source": [
    "df_main = df_main[['Open', 'High', 'Low', 'Close']]\n",
    "df_main"
   ],
   "metadata": {
    "collapsed": false,
    "pycharm": {
     "name": "#%%\n"
    }
   }
  },
  {
   "cell_type": "markdown",
   "source": [
    "先处理空值\n",
    "进行归一化数据处理 防止爆炸"
   ],
   "metadata": {
    "collapsed": false,
    "pycharm": {
     "name": "#%% md\n"
    }
   }
  },
  {
   "cell_type": "code",
   "execution_count": 5,
   "outputs": [
    {
     "data": {
      "text/plain": "              Open         High          Low        Close\ncount  1763.000000  1763.000000  1763.000000  1763.000000\nmean     55.781820    56.025560    55.509895    55.786973\nstd       5.707644     5.663721     5.753059     5.714099\nmin      40.671000    41.885000    40.074000    41.061000\n25%      52.124500    52.322000    51.878500    52.146000\n50%      55.504000    55.757000    55.276000    55.496000\n75%      58.666500    58.837500    58.455500    58.695000\nmax      74.290000    74.645000    74.210000    74.610000",
      "text/html": "<div>\n<style scoped>\n    .dataframe tbody tr th:only-of-type {\n        vertical-align: middle;\n    }\n\n    .dataframe tbody tr th {\n        vertical-align: top;\n    }\n\n    .dataframe thead th {\n        text-align: right;\n    }\n</style>\n<table border=\"1\" class=\"dataframe\">\n  <thead>\n    <tr style=\"text-align: right;\">\n      <th></th>\n      <th>Open</th>\n      <th>High</th>\n      <th>Low</th>\n      <th>Close</th>\n    </tr>\n  </thead>\n  <tbody>\n    <tr>\n      <th>count</th>\n      <td>1763.000000</td>\n      <td>1763.000000</td>\n      <td>1763.000000</td>\n      <td>1763.000000</td>\n    </tr>\n    <tr>\n      <th>mean</th>\n      <td>55.781820</td>\n      <td>56.025560</td>\n      <td>55.509895</td>\n      <td>55.786973</td>\n    </tr>\n    <tr>\n      <th>std</th>\n      <td>5.707644</td>\n      <td>5.663721</td>\n      <td>5.753059</td>\n      <td>5.714099</td>\n    </tr>\n    <tr>\n      <th>min</th>\n      <td>40.671000</td>\n      <td>41.885000</td>\n      <td>40.074000</td>\n      <td>41.061000</td>\n    </tr>\n    <tr>\n      <th>25%</th>\n      <td>52.124500</td>\n      <td>52.322000</td>\n      <td>51.878500</td>\n      <td>52.146000</td>\n    </tr>\n    <tr>\n      <th>50%</th>\n      <td>55.504000</td>\n      <td>55.757000</td>\n      <td>55.276000</td>\n      <td>55.496000</td>\n    </tr>\n    <tr>\n      <th>75%</th>\n      <td>58.666500</td>\n      <td>58.837500</td>\n      <td>58.455500</td>\n      <td>58.695000</td>\n    </tr>\n    <tr>\n      <th>max</th>\n      <td>74.290000</td>\n      <td>74.645000</td>\n      <td>74.210000</td>\n      <td>74.610000</td>\n    </tr>\n  </tbody>\n</table>\n</div>"
     },
     "execution_count": 5,
     "metadata": {},
     "output_type": "execute_result"
    }
   ],
   "source": [
    "df_main.describe()"
   ],
   "metadata": {
    "collapsed": false,
    "pycharm": {
     "name": "#%%\n"
    }
   }
  },
  {
   "cell_type": "code",
   "execution_count": 6,
   "outputs": [
    {
     "data": {
      "text/plain": "<bound method DataFrame.isna of               Open    High     Low   Close\nDate                                      \n2010-10-11  55.971  56.052  55.863  56.052\n2010-10-12  55.676  55.792  55.362  55.667\n2010-10-13  56.472  56.867  56.401  56.569\n2010-10-14  56.733  56.742  56.293  56.579\n2010-10-15  56.893  56.893  56.194  56.552\n...            ...     ...     ...     ...\n2017-10-05  73.500  74.030  73.500  73.970\n2017-10-06  73.470  73.650  73.220  73.579\n2017-10-09  73.500  73.795  73.480  73.770\n2017-10-10  74.150  74.490  74.150  74.480\n2017-10-11  74.290  74.645  74.210  74.610\n\n[1763 rows x 4 columns]>"
     },
     "execution_count": 6,
     "metadata": {},
     "output_type": "execute_result"
    }
   ],
   "source": [
    "df_main.isna"
   ],
   "metadata": {
    "collapsed": false,
    "pycharm": {
     "name": "#%%\n"
    }
   }
  },
  {
   "cell_type": "code",
   "execution_count": 7,
   "outputs": [
    {
     "data": {
      "text/plain": "              Open         High          Low        Close\ncount  1763.000000  1763.000000  1763.000000  1763.000000\nmean     55.781820    56.025560    55.509895    55.786973\nstd       5.707644     5.663721     5.753059     5.714099\nmin      40.671000    41.885000    40.074000    41.061000\n25%      52.124500    52.322000    51.878500    52.146000\n50%      55.504000    55.757000    55.276000    55.496000\n75%      58.666500    58.837500    58.455500    58.695000\nmax      74.290000    74.645000    74.210000    74.610000",
      "text/html": "<div>\n<style scoped>\n    .dataframe tbody tr th:only-of-type {\n        vertical-align: middle;\n    }\n\n    .dataframe tbody tr th {\n        vertical-align: top;\n    }\n\n    .dataframe thead th {\n        text-align: right;\n    }\n</style>\n<table border=\"1\" class=\"dataframe\">\n  <thead>\n    <tr style=\"text-align: right;\">\n      <th></th>\n      <th>Open</th>\n      <th>High</th>\n      <th>Low</th>\n      <th>Close</th>\n    </tr>\n  </thead>\n  <tbody>\n    <tr>\n      <th>count</th>\n      <td>1763.000000</td>\n      <td>1763.000000</td>\n      <td>1763.000000</td>\n      <td>1763.000000</td>\n    </tr>\n    <tr>\n      <th>mean</th>\n      <td>55.781820</td>\n      <td>56.025560</td>\n      <td>55.509895</td>\n      <td>55.786973</td>\n    </tr>\n    <tr>\n      <th>std</th>\n      <td>5.707644</td>\n      <td>5.663721</td>\n      <td>5.753059</td>\n      <td>5.714099</td>\n    </tr>\n    <tr>\n      <th>min</th>\n      <td>40.671000</td>\n      <td>41.885000</td>\n      <td>40.074000</td>\n      <td>41.061000</td>\n    </tr>\n    <tr>\n      <th>25%</th>\n      <td>52.124500</td>\n      <td>52.322000</td>\n      <td>51.878500</td>\n      <td>52.146000</td>\n    </tr>\n    <tr>\n      <th>50%</th>\n      <td>55.504000</td>\n      <td>55.757000</td>\n      <td>55.276000</td>\n      <td>55.496000</td>\n    </tr>\n    <tr>\n      <th>75%</th>\n      <td>58.666500</td>\n      <td>58.837500</td>\n      <td>58.455500</td>\n      <td>58.695000</td>\n    </tr>\n    <tr>\n      <th>max</th>\n      <td>74.290000</td>\n      <td>74.645000</td>\n      <td>74.210000</td>\n      <td>74.610000</td>\n    </tr>\n  </tbody>\n</table>\n</div>"
     },
     "execution_count": 7,
     "metadata": {},
     "output_type": "execute_result"
    }
   ],
   "source": [
    "df_main = df_main.fillna(method='ffill')\n",
    "df_main.describe()"
   ],
   "metadata": {
    "collapsed": false,
    "pycharm": {
     "name": "#%%\n"
    }
   }
  },
  {
   "cell_type": "code",
   "execution_count": 8,
   "outputs": [],
   "source": [
    "scaler = MinMaxScaler(feature_range=(-1, 1))"
   ],
   "metadata": {
    "collapsed": false,
    "pycharm": {
     "name": "#%%\n"
    }
   }
  },
  {
   "cell_type": "code",
   "execution_count": 9,
   "outputs": [],
   "source": [
    "sel_col = ['Open', 'High', 'Low', 'Close']"
   ],
   "metadata": {
    "collapsed": false,
    "pycharm": {
     "name": "#%%\n"
    }
   }
  },
  {
   "cell_type": "code",
   "execution_count": 10,
   "outputs": [
    {
     "data": {
      "text/plain": "                Open      High       Low     Close\nDate                                              \n2010-10-11 -0.089800 -0.135104 -0.074936 -0.106322\n2010-10-12 -0.107350 -0.150977 -0.104289 -0.129274\n2010-10-13 -0.059996 -0.085348 -0.043415 -0.075502\n2010-10-14 -0.044469 -0.092979 -0.049742 -0.074905\n2010-10-15 -0.034950 -0.083761 -0.055543 -0.076515\n...              ...       ...       ...       ...\n2017-10-05  0.953003  0.962454  0.958402  0.961847\n2017-10-06  0.951218  0.939255  0.941997  0.938538\n2017-10-09  0.953003  0.948107  0.957230  0.949924\n2017-10-10  0.991671  0.990537  0.996485  0.992250\n2017-10-11  1.000000  1.000000  1.000000  1.000000\n\n[1763 rows x 4 columns]",
      "text/html": "<div>\n<style scoped>\n    .dataframe tbody tr th:only-of-type {\n        vertical-align: middle;\n    }\n\n    .dataframe tbody tr th {\n        vertical-align: top;\n    }\n\n    .dataframe thead th {\n        text-align: right;\n    }\n</style>\n<table border=\"1\" class=\"dataframe\">\n  <thead>\n    <tr style=\"text-align: right;\">\n      <th></th>\n      <th>Open</th>\n      <th>High</th>\n      <th>Low</th>\n      <th>Close</th>\n    </tr>\n    <tr>\n      <th>Date</th>\n      <th></th>\n      <th></th>\n      <th></th>\n      <th></th>\n    </tr>\n  </thead>\n  <tbody>\n    <tr>\n      <th>2010-10-11</th>\n      <td>-0.089800</td>\n      <td>-0.135104</td>\n      <td>-0.074936</td>\n      <td>-0.106322</td>\n    </tr>\n    <tr>\n      <th>2010-10-12</th>\n      <td>-0.107350</td>\n      <td>-0.150977</td>\n      <td>-0.104289</td>\n      <td>-0.129274</td>\n    </tr>\n    <tr>\n      <th>2010-10-13</th>\n      <td>-0.059996</td>\n      <td>-0.085348</td>\n      <td>-0.043415</td>\n      <td>-0.075502</td>\n    </tr>\n    <tr>\n      <th>2010-10-14</th>\n      <td>-0.044469</td>\n      <td>-0.092979</td>\n      <td>-0.049742</td>\n      <td>-0.074905</td>\n    </tr>\n    <tr>\n      <th>2010-10-15</th>\n      <td>-0.034950</td>\n      <td>-0.083761</td>\n      <td>-0.055543</td>\n      <td>-0.076515</td>\n    </tr>\n    <tr>\n      <th>...</th>\n      <td>...</td>\n      <td>...</td>\n      <td>...</td>\n      <td>...</td>\n    </tr>\n    <tr>\n      <th>2017-10-05</th>\n      <td>0.953003</td>\n      <td>0.962454</td>\n      <td>0.958402</td>\n      <td>0.961847</td>\n    </tr>\n    <tr>\n      <th>2017-10-06</th>\n      <td>0.951218</td>\n      <td>0.939255</td>\n      <td>0.941997</td>\n      <td>0.938538</td>\n    </tr>\n    <tr>\n      <th>2017-10-09</th>\n      <td>0.953003</td>\n      <td>0.948107</td>\n      <td>0.957230</td>\n      <td>0.949924</td>\n    </tr>\n    <tr>\n      <th>2017-10-10</th>\n      <td>0.991671</td>\n      <td>0.990537</td>\n      <td>0.996485</td>\n      <td>0.992250</td>\n    </tr>\n    <tr>\n      <th>2017-10-11</th>\n      <td>1.000000</td>\n      <td>1.000000</td>\n      <td>1.000000</td>\n      <td>1.000000</td>\n    </tr>\n  </tbody>\n</table>\n<p>1763 rows × 4 columns</p>\n</div>"
     },
     "execution_count": 10,
     "metadata": {},
     "output_type": "execute_result"
    }
   ],
   "source": [
    "for col in sel_col:\n",
    "    df_main[col] = scaler.fit_transform(df_main[col].values.reshape(-1,1))\n",
    "\n",
    "df_main"
   ],
   "metadata": {
    "collapsed": false,
    "pycharm": {
     "name": "#%%\n"
    }
   }
  },
  {
   "cell_type": "markdown",
   "source": [
    "创造需要预测的序列。因为我们要预测下一个时间的收盘价，所以把close向上shift1个单位："
   ],
   "metadata": {
    "collapsed": false,
    "pycharm": {
     "name": "#%% md\n"
    }
   }
  },
  {
   "cell_type": "code",
   "execution_count": 11,
   "outputs": [],
   "source": [
    "df_main['target'] = df_main['Close'].shift(-1)\n",
    "df_main.dropna()\n",
    "df_main = df_main.astype(np.float32)"
   ],
   "metadata": {
    "collapsed": false,
    "pycharm": {
     "name": "#%%\n"
    }
   }
  },
  {
   "cell_type": "markdown",
   "source": [
    "接下来要根据LSTM需要的数据格式来创造数据集。Lstm需要的输入是一个3D array[x,y,z],其中x是样本数，y是seq length，即需要看多少天的数据，z是特征数。x=length, y=batch_size, z=feature_size"
   ],
   "metadata": {
    "collapsed": false,
    "pycharm": {
     "name": "#%% md\n"
    }
   }
  },
  {
   "cell_type": "markdown",
   "source": [],
   "metadata": {
    "collapsed": false,
    "pycharm": {
     "name": "#%% md\n"
    }
   }
  },
  {
   "cell_type": "code",
   "execution_count": 12,
   "outputs": [],
   "source": [
    "def create_seq_data(data_raw, seq):\n",
    "    # data_raw完整数据，seq为一句长度\n",
    "    # 例如data_raw.length==100, seq=10\n",
    "    # [0:10] [1:11] [2:12]......[90:100]\n",
    "    data_feat, data_target = [], []\n",
    "\n",
    "    for index in range(len(data_raw) - seq):\n",
    "        # 构建特征集\n",
    "        data_feat.append(data_raw[['Open', 'High', 'Low', 'Close']][index: index+seq].values)\n",
    "        data_target.append(data_raw['target'][index:index+seq])\n",
    "    data_feat = np.array(data_feat)\n",
    "    data_target = np.array(data_target)\n",
    "\n",
    "    return data_feat, data_target"
   ],
   "metadata": {
    "collapsed": false,
    "pycharm": {
     "name": "#%%\n"
    }
   }
  },
  {
   "cell_type": "markdown",
   "source": [
    "样本数是1808，我们所设定的每个时间区间是20天，通过高开低收4个来预测，所以datafeat的维度是(1808,20,4)，对应的data_target的维度是(1808,20,1)，1808和20和feat一样，但是因为预测只有一个数值即下一天的收盘价，所以维度为1.\n",
    "\n",
    "然后开始划分训练和测试集，这里按8：2分了下："
   ],
   "metadata": {
    "collapsed": false,
    "pycharm": {
     "name": "#%% md\n"
    }
   }
  },
  {
   "cell_type": "code",
   "execution_count": 13,
   "outputs": [],
   "source": [
    "def train_test(data_feat, data_target, test_set_size, seq):\n",
    "    train_size = data_feat.shape[0]-(test_set_size)\n",
    "    trainX = torch.from_numpy(data_feat[:train_size].reshape(-1, seq, 4)).type(torch.Tensor)\n",
    "    testX =torch.from_numpy(data_feat[train_size:].reshape(-1,seq,4)).type(torch.Tensor)\n",
    "    trainY = torch.from_numpy(data_target[:train_size].reshape(-1, seq, 1)).type(torch.Tensor)\n",
    "    testY = torch.from_numpy(data_target[train_size:].reshape(-1, seq, 1)).type(torch.Tensor)\n",
    "\n",
    "    return trainX, trainY, testX, testY\n",
    "\n"
   ],
   "metadata": {
    "collapsed": false,
    "pycharm": {
     "name": "#%%\n"
    }
   }
  },
  {
   "cell_type": "code",
   "execution_count": 13,
   "outputs": [],
   "source": [],
   "metadata": {
    "collapsed": false,
    "pycharm": {
     "name": "#%%\n"
    }
   }
  },
  {
   "cell_type": "code",
   "execution_count": 14,
   "outputs": [],
   "source": [
    "data_raw=df_main"
   ],
   "metadata": {
    "collapsed": false,
    "pycharm": {
     "name": "#%%\n"
    }
   }
  },
  {
   "cell_type": "code",
   "execution_count": 15,
   "outputs": [],
   "source": [
    "seq = 20\n",
    "test_set_size = int(np.round(0.2*data_raw.shape[0]))\n",
    "\n",
    "feat, target = create_seq_data(data_raw, seq)\n",
    "trainX, trainY, testX, testY = train_test(feat, target, test_set_size, seq)"
   ],
   "metadata": {
    "collapsed": false,
    "pycharm": {
     "name": "#%%\n"
    }
   }
  },
  {
   "cell_type": "code",
   "execution_count": 16,
   "outputs": [
    {
     "name": "stdout",
     "output_type": "stream",
     "text": [
      "x_train.shape =  torch.Size([1390, 20, 4])\n",
      "y_train.shape =  torch.Size([1390, 20, 1])\n",
      "x_test.shape =  torch.Size([353, 20, 4])\n",
      "y_test.shape =  torch.Size([353, 20, 1])\n"
     ]
    }
   ],
   "source": [
    "print('x_train.shape = ',trainX.shape)\n",
    "print('y_train.shape = ',trainY.shape)\n",
    "print('x_test.shape = ',testX.shape)\n",
    "print('y_test.shape = ',testY.shape)"
   ],
   "metadata": {
    "collapsed": false,
    "pycharm": {
     "name": "#%%\n"
    }
   }
  },
  {
   "cell_type": "code",
   "execution_count": 17,
   "outputs": [],
   "source": [
    "n_steps = seq\n",
    "batch_size = 1442\n",
    "num_epochs = 100\n",
    "train = torch.utils.data.TensorDataset(trainX,trainY)\n",
    "test = torch.utils.data.TensorDataset(testX,testY)\n",
    "train_loadr = torch.utils.data.DataLoader(dataset=train, batch_size=batch_size,shuffle=False)\n",
    "\n",
    "test_loader = torch.utils.data.DataLoader(dataset=test, batch_size=batch_size,shuffle=False)"
   ],
   "metadata": {
    "collapsed": false,
    "pycharm": {
     "name": "#%%\n"
    }
   }
  },
  {
   "cell_type": "markdown",
   "source": [
    "建立LSTM model\n",
    "LSTM的参数主要有input_dim,hidden_dim,num_layers,output_dim.\n",
    "\n",
    "其中input_dim可以看成是输入的特征数，在我们这里就是4；hidden_dim这里我们选了32，num_layers是有几层的lstm层，output_dim是最后输出几维，由于最后我们的target只是一维所以output_dim=1."
   ],
   "metadata": {
    "collapsed": false,
    "pycharm": {
     "name": "#%% md\n"
    }
   }
  },
  {
   "cell_type": "code",
   "execution_count": 18,
   "outputs": [],
   "source": [
    "input_dim = 4\n",
    "hidden_dim = 32\n",
    "num_layers = 2\n",
    "output_dim = 1"
   ],
   "metadata": {
    "collapsed": false,
    "pycharm": {
     "name": "#%%\n"
    }
   }
  },
  {
   "cell_type": "code",
   "execution_count": 19,
   "outputs": [],
   "source": [
    "class LSTM(nn.Module):\n",
    "    def __init__(self, input_dim, hidden_dim, num_layers, output_dim):\n",
    "        super(LSTM, self).__init__()\n",
    "        # 隐藏层维度\n",
    "        self.hidden_dim = hidden_dim\n",
    "\n",
    "        # 隐lstm层数\n",
    "        self.num_layers = num_layers\n",
    "        # 构建LSTM\n",
    "        # batch_size=True\n",
    "        self.lstm = nn.LSTM(input_dim, hidden_dim, num_layers, batch_first=True)\n",
    "\n",
    "        # 输出层、全连接层\n",
    "        self.fc = nn.Linear(hidden_dim, output_dim)\n",
    "\n",
    "    def forward(self, x):\n",
    "        # 初始化隐层节点状态\n",
    "        h0 = torch.zeros(self.num_layers, x.size(0), self.hidden_dim).requires_grad_()\n",
    "\n",
    "        # 初始化细胞节点状态\n",
    "        c0 = torch.zeros(self.num_layers, x.size(0), self.hidden_dim).requires_grad_()\n",
    "\n",
    "        # one time step\n",
    "        out, (hn, cn) = self.lstm(x, (h0.detach(), c0.detach()))\n",
    "\n",
    "        out = self.fc(out)\n",
    "        return out"
   ],
   "metadata": {
    "collapsed": false,
    "pycharm": {
     "name": "#%%\n"
    }
   }
  },
  {
   "cell_type": "code",
   "execution_count": 20,
   "outputs": [],
   "source": [
    "model = LSTM(input_dim=input_dim, hidden_dim=hidden_dim, output_dim=output_dim, num_layers=num_layers)"
   ],
   "metadata": {
    "collapsed": false,
    "pycharm": {
     "name": "#%%\n"
    }
   }
  },
  {
   "cell_type": "code",
   "execution_count": 21,
   "outputs": [
    {
     "data": {
      "text/plain": "LSTM(\n  (lstm): LSTM(4, 32, num_layers=2, batch_first=True)\n  (fc): Linear(in_features=32, out_features=1, bias=True)\n)"
     },
     "execution_count": 21,
     "metadata": {},
     "output_type": "execute_result"
    }
   ],
   "source": [
    "model"
   ],
   "metadata": {
    "collapsed": false,
    "pycharm": {
     "name": "#%%\n"
    }
   }
  },
  {
   "cell_type": "markdown",
   "source": [
    "定义loss function和优化函数，因为预测数值问题，所以运用了MSE来衡量差值，adam用于优化，可以自适应率寻找到一个比较好的优化路径。"
   ],
   "metadata": {
    "collapsed": false,
    "pycharm": {
     "name": "#%% md\n"
    }
   }
  },
  {
   "cell_type": "code",
   "execution_count": 22,
   "outputs": [
    {
     "name": "stderr",
     "output_type": "stream",
     "text": [
      "C:\\Users\\86176\\AppData\\Roaming\\Python\\Python37\\site-packages\\torch\\nn\\_reduction.py:42: UserWarning: size_average and reduce args will be deprecated, please use reduction='mean' instead.\n",
      "  warnings.warn(warning.format(ret))\n"
     ]
    }
   ],
   "source": [
    "loss_fn = torch.nn.MSELoss(size_average=True)\n",
    "optimiser = torch.optim.Adam(model.parameters(), lr=0.01)"
   ],
   "metadata": {
    "collapsed": false,
    "pycharm": {
     "name": "#%%\n"
    }
   }
  },
  {
   "cell_type": "markdown",
   "source": [
    "### 训练模型"
   ],
   "metadata": {
    "collapsed": false,
    "pycharm": {
     "name": "#%% md\n"
    }
   }
  },
  {
   "cell_type": "code",
   "execution_count": 23,
   "outputs": [
    {
     "name": "stdout",
     "output_type": "stream",
     "text": [
      "0 [tensor([[[-0.0898, -0.1351, -0.0749, -0.1063],\n",
      "         [-0.1074, -0.1510, -0.1043, -0.1293],\n",
      "         [-0.0600, -0.0853, -0.0434, -0.0755],\n",
      "         ...,\n",
      "         [-0.0126, -0.0504, -0.0266, -0.0236],\n",
      "         [ 0.0466,  0.0250,  0.0531,  0.0458],\n",
      "         [ 0.0642,  0.0349,  0.0768,  0.0517]],\n",
      "\n",
      "        [[-0.1074, -0.1510, -0.1043, -0.1293],\n",
      "         [-0.0600, -0.0853, -0.0434, -0.0755],\n",
      "         [-0.0445, -0.0930, -0.0497, -0.0749],\n",
      "         ...,\n",
      "         [ 0.0466,  0.0250,  0.0531,  0.0458],\n",
      "         [ 0.0642,  0.0349,  0.0768,  0.0517],\n",
      "         [ 0.0684,  0.0234,  0.0751,  0.0484]],\n",
      "\n",
      "        [[-0.0600, -0.0853, -0.0434, -0.0755],\n",
      "         [-0.0445, -0.0930, -0.0497, -0.0749],\n",
      "         [-0.0350, -0.0838, -0.0555, -0.0765],\n",
      "         ...,\n",
      "         [ 0.0642,  0.0349,  0.0768,  0.0517],\n",
      "         [ 0.0684,  0.0234,  0.0751,  0.0484],\n",
      "         [ 0.0754,  0.0399,  0.0463,  0.0170]],\n",
      "\n",
      "        ...,\n",
      "\n",
      "        [[-0.2199, -0.2383, -0.1967, -0.2135],\n",
      "         [-0.1733, -0.2046, -0.1560, -0.1779],\n",
      "         [-0.1943, -0.2233, -0.1801, -0.2082],\n",
      "         ...,\n",
      "         [-0.3787, -0.4252, -0.3624, -0.4101],\n",
      "         [-0.3741, -0.4281, -0.3761, -0.4200],\n",
      "         [-0.4195, -0.4664, -0.4182, -0.4613]],\n",
      "\n",
      "        [[-0.1733, -0.2046, -0.1560, -0.1779],\n",
      "         [-0.1943, -0.2233, -0.1801, -0.2082],\n",
      "         [-0.1878, -0.2365, -0.1904, -0.2304],\n",
      "         ...,\n",
      "         [-0.3741, -0.4281, -0.3761, -0.4200],\n",
      "         [-0.4195, -0.4664, -0.4182, -0.4613],\n",
      "         [-0.4113, -0.4479, -0.3853, -0.4203]],\n",
      "\n",
      "        [[-0.1943, -0.2233, -0.1801, -0.2082],\n",
      "         [-0.1878, -0.2365, -0.1904, -0.2304],\n",
      "         [-0.2169, -0.2502, -0.2047, -0.2433],\n",
      "         ...,\n",
      "         [-0.4195, -0.4664, -0.4182, -0.4613],\n",
      "         [-0.4113, -0.4479, -0.3853, -0.4203],\n",
      "         [-0.3991, -0.4485, -0.3922, -0.4322]]]), tensor([[[-0.1293],\n",
      "         [-0.0755],\n",
      "         [-0.0749],\n",
      "         ...,\n",
      "         [ 0.0458],\n",
      "         [ 0.0517],\n",
      "         [ 0.0484]],\n",
      "\n",
      "        [[-0.0755],\n",
      "         [-0.0749],\n",
      "         [-0.0765],\n",
      "         ...,\n",
      "         [ 0.0517],\n",
      "         [ 0.0484],\n",
      "         [ 0.0170]],\n",
      "\n",
      "        [[-0.0749],\n",
      "         [-0.0765],\n",
      "         [-0.0684],\n",
      "         ...,\n",
      "         [ 0.0484],\n",
      "         [ 0.0170],\n",
      "         [ 0.0350]],\n",
      "\n",
      "        ...,\n",
      "\n",
      "        [[-0.1779],\n",
      "         [-0.2082],\n",
      "         [-0.2304],\n",
      "         ...,\n",
      "         [-0.4200],\n",
      "         [-0.4613],\n",
      "         [-0.4203]],\n",
      "\n",
      "        [[-0.2082],\n",
      "         [-0.2304],\n",
      "         [-0.2433],\n",
      "         ...,\n",
      "         [-0.4613],\n",
      "         [-0.4203],\n",
      "         [-0.4322]],\n",
      "\n",
      "        [[-0.2304],\n",
      "         [-0.2433],\n",
      "         [-0.2567],\n",
      "         ...,\n",
      "         [-0.4203],\n",
      "         [-0.4322],\n",
      "         [-0.4526]]])]\n"
     ]
    }
   ],
   "source": [
    "for x, y in enumerate(train_loadr):\n",
    "    print(x,y)"
   ],
   "metadata": {
    "collapsed": false,
    "pycharm": {
     "name": "#%%\n"
    }
   }
  },
  {
   "cell_type": "code",
   "execution_count": 24,
   "outputs": [
    {
     "name": "stdout",
     "output_type": "stream",
     "text": [
      "Epoch  10 MSE:  0.031211448833346367\n",
      "Epoch  20 MSE:  0.01440457347780466\n",
      "Epoch  30 MSE:  0.00746068125590682\n",
      "Epoch  40 MSE:  0.004427543841302395\n",
      "Epoch  50 MSE:  0.0034078056924045086\n",
      "Epoch  60 MSE:  0.0027440786361694336\n",
      "Epoch  70 MSE:  0.002327204681932926\n",
      "Epoch  80 MSE:  0.0020735778380185366\n",
      "Epoch  90 MSE:  0.001914164749905467\n"
     ]
    }
   ],
   "source": [
    "\n",
    "hist = np.zeros(num_epochs)\n",
    "seq_dim = seq\n",
    "plt_loss = []\n",
    "for t in range(num_epochs):\n",
    "    # 初始化隐藏状态\n",
    "    # Don't do this if you want your LSTM to be stateful\n",
    "    # model.hidden = model.init_hidden()\n",
    "\n",
    "    # 前向传播\n",
    "    y_train_pred = model(trainX)\n",
    "    loss = loss_fn(y_train_pred, trainY)\n",
    "    if t%10==0 and t!=0:\n",
    "        print('Epoch ', t, \"MSE: \", loss.item())\n",
    "    hist[t] = loss.item()\n",
    "    plt_loss.append(loss.item())\n",
    "    optimiser.zero_grad()\n",
    "    loss.backward()\n",
    "    optimiser.step()"
   ],
   "metadata": {
    "collapsed": false,
    "pycharm": {
     "name": "#%%\n"
    }
   }
  },
  {
   "cell_type": "markdown",
   "source": [],
   "metadata": {
    "collapsed": false,
    "pycharm": {
     "name": "#%% md\n"
    }
   }
  },
  {
   "cell_type": "code",
   "execution_count": 25,
   "outputs": [
    {
     "data": {
      "text/plain": "[<matplotlib.lines.Line2D at 0x19912465c88>]"
     },
     "execution_count": 25,
     "metadata": {},
     "output_type": "execute_result"
    },
    {
     "data": {
      "text/plain": "<Figure size 432x288 with 1 Axes>",
      "image/png": "[encoded data removed]"
     },
     "metadata": {
      "needs_background": "light"
     },
     "output_type": "display_data"
    }
   ],
   "source": [
    "plt.plot(range(num_epochs),plt_loss)"
   ],
   "metadata": {
    "collapsed": false,
    "pycharm": {
     "name": "#%%\n"
    }
   }
  },
  {
   "cell_type": "code",
   "execution_count": 27,
   "outputs": [],
   "source": [
    "y_test_pred = model(testX)"
   ],
   "metadata": {
    "collapsed": false,
    "pycharm": {
     "name": "#%%\n"
    }
   }
  },
  {
   "cell_type": "code",
   "execution_count": 35,
   "outputs": [
    {
     "data": {
      "text/plain": "(353, 20, 1)"
     },
     "execution_count": 35,
     "metadata": {},
     "output_type": "execute_result"
    }
   ],
   "source": [
    "y_test_pred.size(0) ,y_test_pred.size(1), y_test_pred.size(2)#[len, seq, 1]"
   ],
   "metadata": {
    "collapsed": false,
    "pycharm": {
     "name": "#%%\n"
    }
   }
  },
  {
   "cell_type": "code",
   "execution_count": 29,
   "outputs": [
    {
     "data": {
      "text/plain": "array([ 0.05483837,  0.05599086,  0.04284535, ..., -0.4501235 ,\n       -0.42848188, -0.4281816 ], dtype=float32)"
     },
     "execution_count": 29,
     "metadata": {},
     "output_type": "execute_result"
    }
   ],
   "source": [
    "y_train_pred.detach().numpy()[:,-1,0]"
   ],
   "metadata": {
    "collapsed": false,
    "pycharm": {
     "name": "#%%\n"
    }
   }
  },
  {
   "cell_type": "markdown",
   "source": [],
   "metadata": {
    "collapsed": false,
    "pycharm": {
     "name": "#%% md\n"
    }
   }
  },
  {
   "cell_type": "code",
   "execution_count": 37,
   "outputs": [
    {
     "ename": "AttributeError",
     "evalue": "'numpy.ndarray' object has no attribute 'detach'",
     "output_type": "error",
     "traceback": [
      "\u001B[1;31m---------------------------------------------------------------------------\u001B[0m",
      "\u001B[1;31mAttributeError\u001B[0m                            Traceback (most recent call last)",
      "\u001B[1;32m~\\AppData\\Local\\Temp\\ipykernel_22144\\428536205.py\u001B[0m in \u001B[0;36m<module>\u001B[1;34m\u001B[0m\n\u001B[0;32m      1\u001B[0m \u001B[1;31m# 转换一下\u001B[0m\u001B[1;33m\u001B[0m\u001B[1;33m\u001B[0m\u001B[1;33m\u001B[0m\u001B[0m\n\u001B[1;32m----> 2\u001B[1;33m \u001B[0my_train_pred\u001B[0m \u001B[1;33m=\u001B[0m \u001B[0mscaler\u001B[0m\u001B[1;33m.\u001B[0m\u001B[0minverse_transform\u001B[0m\u001B[1;33m(\u001B[0m\u001B[0my_train_pred\u001B[0m\u001B[1;33m.\u001B[0m\u001B[0mdetach\u001B[0m\u001B[1;33m(\u001B[0m\u001B[1;33m)\u001B[0m\u001B[1;33m.\u001B[0m\u001B[0mnumpy\u001B[0m\u001B[1;33m(\u001B[0m\u001B[1;33m)\u001B[0m\u001B[1;33m[\u001B[0m\u001B[1;33m:\u001B[0m\u001B[1;33m,\u001B[0m\u001B[1;33m-\u001B[0m\u001B[1;36m1\u001B[0m\u001B[1;33m,\u001B[0m\u001B[1;36m0\u001B[0m\u001B[1;33m]\u001B[0m\u001B[1;33m.\u001B[0m\u001B[0mreshape\u001B[0m\u001B[1;33m(\u001B[0m\u001B[1;33m-\u001B[0m\u001B[1;36m1\u001B[0m\u001B[1;33m,\u001B[0m\u001B[1;36m1\u001B[0m\u001B[1;33m)\u001B[0m\u001B[1;33m)\u001B[0m\u001B[1;33m\u001B[0m\u001B[1;33m\u001B[0m\u001B[0m\n\u001B[0m\u001B[0;32m      3\u001B[0m \u001B[0my_train\u001B[0m \u001B[1;33m=\u001B[0m \u001B[0mscaler\u001B[0m\u001B[1;33m.\u001B[0m\u001B[0minverse_transform\u001B[0m\u001B[1;33m(\u001B[0m\u001B[0mtrainY\u001B[0m\u001B[1;33m.\u001B[0m\u001B[0mdetach\u001B[0m\u001B[1;33m(\u001B[0m\u001B[1;33m)\u001B[0m\u001B[1;33m.\u001B[0m\u001B[0mnumpy\u001B[0m\u001B[1;33m(\u001B[0m\u001B[1;33m)\u001B[0m\u001B[1;33m[\u001B[0m\u001B[1;33m:\u001B[0m\u001B[1;33m,\u001B[0m\u001B[1;33m-\u001B[0m\u001B[1;36m1\u001B[0m\u001B[1;33m,\u001B[0m\u001B[1;36m0\u001B[0m\u001B[1;33m]\u001B[0m\u001B[1;33m.\u001B[0m\u001B[0mreshape\u001B[0m\u001B[1;33m(\u001B[0m\u001B[1;33m-\u001B[0m\u001B[1;36m1\u001B[0m\u001B[1;33m,\u001B[0m \u001B[1;36m1\u001B[0m\u001B[1;33m)\u001B[0m\u001B[1;33m)\u001B[0m\u001B[1;33m\u001B[0m\u001B[1;33m\u001B[0m\u001B[0m\n",
      "\u001B[1;31mAttributeError\u001B[0m: 'numpy.ndarray' object has no attribute 'detach'"
     ]
    }
   ],
   "source": [
    "# 转换一下\n",
    "y_train_pred = scaler.inverse_transform(y_train_pred.detach().numpy()[:,-1,0].reshape(-1,1))\n"
   ],
   "metadata": {
    "collapsed": false,
    "pycharm": {
     "name": "#%%\n"
    }
   }
  },
  {
   "cell_type": "code",
   "execution_count": 38,
   "outputs": [],
   "source": [
    "y_train = scaler.inverse_transform(trainY.detach().numpy()[:,-1,0].reshape(-1, 1))"
   ],
   "metadata": {
    "collapsed": false,
    "pycharm": {
     "name": "#%%\n"
    }
   }
  },
  {
   "cell_type": "code",
   "execution_count": 39,
   "outputs": [],
   "source": [
    "y_test_pred = scaler.inverse_transform(y_test_pred.detach().numpy()[:,-1,0].reshape(-1,1))\n",
    "test = scaler.inverse_transform(testY.detach().numpy()[:,-1,0].reshape(-1, 1))"
   ],
   "metadata": {
    "collapsed": false,
    "pycharm": {
     "name": "#%%\n"
    }
   }
  },
  {
   "cell_type": "code",
   "execution_count": 40,
   "outputs": [
    {
     "name": "stdout",
     "output_type": "stream",
     "text": [
      "Train Score: 0.69 RMSE\n",
      "Test Score: 0.95 RMSE\n"
     ]
    }
   ],
   "source": [
    "# calculate root mean squared error\n",
    "trainScore = math.sqrt(mean_squared_error(y_train, y_train_pred))\n",
    "print('Train Score: %.2f RMSE' % (trainScore))\n",
    "testScore = math.sqrt(mean_squared_error(test, y_test_pred))\n",
    "print('Test Score: %.2f RMSE' % (testScore))"
   ],
   "metadata": {
    "collapsed": false,
    "pycharm": {
     "name": "#%%\n"
    }
   }
  },
  {
   "cell_type": "code",
   "execution_count": null,
   "outputs": [],
   "source": [],
   "metadata": {
    "collapsed": false,
    "pycharm": {
     "name": "#%%\n"
    }
   }
  }
 ],
 "metadata": {
  "kernelspec": {
   "display_name": "Python 3",
   "language": "python",
   "name": "python3"
  },
  "language_info": {
   "codemirror_mode": {
    "name": "ipython",
    "version": 2
   },
   "file_extension": ".py",
   "mimetype": "text/x-python",
   "name": "python",
   "nbconvert_exporter": "python",
   "pygments_lexer": "ipython2",
   "version": "2.7.6"
  }
 },
 "nbformat": 4,
 "nbformat_minor": 0
}